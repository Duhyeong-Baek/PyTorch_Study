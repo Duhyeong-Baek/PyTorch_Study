{
  "nbformat": 4,
  "nbformat_minor": 0,
  "metadata": {
    "colab": {
      "provenance": []
    },
    "kernelspec": {
      "name": "python3",
      "display_name": "Python 3"
    },
    "language_info": {
      "name": "python"
    }
  },
  "cells": [
    {
      "cell_type": "code",
      "execution_count": null,
      "metadata": {
        "colab": {
          "base_uri": "https://localhost:8080/"
        },
        "id": "qYZ-hhGQ78BJ",
        "outputId": "bc2ce81b-f2be-4581-d21b-39c46db2ece2"
      },
      "outputs": [
        {
          "output_type": "stream",
          "name": "stdout",
          "text": [
            "Parameter containing:\n",
            "tensor([[0.4480]], requires_grad=True)\n",
            "Parameter containing:\n",
            "tensor([0.1534], requires_grad=True)\n",
            "tensor([0.6013], grad_fn=<ViewBackward0>)\n"
          ]
        }
      ],
      "source": [
        "import torch\n",
        "from torch import nn\n",
        "\n",
        "x=torch.tensor([1.])\n",
        "model = nn.Linear(1, 1) # 입력 노드 하나, 출력 노드 하나인 layer 만듦\n",
        "\n",
        "print(model.weight) # 만들면서 초기화\n",
        "print(model.bias)\n",
        "\n",
        "# 인공신경망은 함수다. y = wx + b\n",
        "y = model(x)\n",
        "print(y)"
      ]
    },
    {
      "cell_type": "code",
      "source": [
        "y = x @ model.weight + model.bias\n",
        "print(y)"
      ],
      "metadata": {
        "colab": {
          "base_uri": "https://localhost:8080/"
        },
        "id": "GrLYRDtA8Xji",
        "outputId": "50cbe735-3de1-4bbf-a565-92be538b6568"
      },
      "execution_count": null,
      "outputs": [
        {
          "output_type": "stream",
          "name": "stdout",
          "text": [
            "tensor([0.6013], grad_fn=<AddBackward0>)\n"
          ]
        }
      ]
    },
    {
      "cell_type": "code",
      "source": [
        "fc1 = nn.Linear(1,3)\n",
        "fc2 = nn.Linear(3,1) # 입력 노드 3개가 전부 연결되어 있는, Fully Connected Layer\n",
        "\n",
        "print(fc1.weight)\n",
        "print(fc1.bias) # 출력노드가 얼마나 민감/둔감하게 반응할지 조정해주는 역할인 bias\n",
        "\n",
        "# 출력 노드가 3개니까, bias도 3개\n",
        "\n",
        "print(fc2.weight)\n",
        "print(fc2.bias) # 출력 노드가 1개니까, bias도 1\n",
        "\n",
        "# (1->3) -> (3->1) 과정\n",
        "x=torch.tensor([1.])\n",
        "x = fc1(x)\n",
        "print(x)\n",
        "\n",
        "x = fc2(x)\n",
        "print(x)\n",
        "\n",
        "# 수식적 표현\n",
        "x = torch.tensor([1.])\n",
        "# y = (x@fc1.weight+fc1.bias)@fc2.weight + fc2.bias # Transpose 안하면 사이즈 오류\n",
        "y = (x@fc1.weight.T+fc1.bias)@fc2.weight.T + fc2.bias\n",
        "\n",
        "print(y)\n",
        "\n",
        "# nn.Linear는 개x채x행x렬에서 \"채널()\" 형태로 (ID data) 들어오길 기대하는 녀석이다\n",
        "# 즉, 노드 하나가 한 채널 의미\n",
        "# 따라서, 데이터 여러 개를 통과시키고 싶다면, (개x채) 형태로 줘야함\n",
        "# why T? weight도 개x채 형태로 만들기 위함!\n",
        "# 일단, weight shape 개x채에서 채는 무조건 앞에 거 채널 수와 맞추셈! (원칙)\n",
        "# 예를 들면, nn.Linear(2,3) 이면 인풋의 채널 개수는 2\n",
        "# 따라서 ?x2인데, \"두 채널 값을 가지고 3개의 노드를 만드는 거\"라서 3x2가 된다\n",
        "\n",
        "# 원칙을 적용해야하니까,\n",
        "\n",
        "# x와 같이 1d 데이터는 \"채\" 형태. 만약 (3,4) 형태로 들어오면, 4개짜리 채널이 3개 있다\n",
        "# 행x렬은 \"이미지\"에서 필요.\n",
        "\n",
        "# (2,3) Layer일 때\n",
        "# [x1 x2] [w1 w3 w5] + [b1 b2 b3]\n",
        "#         [w2 w4 w6]\n",
        "\n",
        "# 여기서 활성화 함수 먹이고, 다시 행렬곱, bias 더하는 것 반복\n"
      ],
      "metadata": {
        "colab": {
          "base_uri": "https://localhost:8080/"
        },
        "id": "JCmjGFq59aE_",
        "outputId": "87a1c27b-89ac-4d05-9a03-27d588a7f5dc"
      },
      "execution_count": null,
      "outputs": [
        {
          "output_type": "stream",
          "name": "stdout",
          "text": [
            "Parameter containing:\n",
            "tensor([[-0.8857],\n",
            "        [ 0.5589],\n",
            "        [ 0.2470]], requires_grad=True)\n",
            "Parameter containing:\n",
            "tensor([ 0.1661, -0.0543, -0.8279], requires_grad=True)\n",
            "Parameter containing:\n",
            "tensor([[-0.3666,  0.1444,  0.3386]], requires_grad=True)\n",
            "Parameter containing:\n",
            "tensor([-0.3044], requires_grad=True)\n",
            "tensor([-0.7196,  0.5046, -0.5809], grad_fn=<ViewBackward0>)\n",
            "tensor([-0.1644], grad_fn=<ViewBackward0>)\n",
            "tensor([-0.1644], grad_fn=<AddBackward0>)\n"
          ]
        }
      ]
    },
    {
      "cell_type": "code",
      "source": [
        "fc1 = nn.Linear(1,3)\n",
        "fc2 = nn.Linear(3,1)\n",
        "\n",
        "model = nn.Sequential(fc1, fc2) # (1,3)과 (3,1)을 갖다 붙이는 함수\n",
        "x= torch.tensor([1.])\n",
        "model(x) # (1->3->1)"
      ],
      "metadata": {
        "colab": {
          "base_uri": "https://localhost:8080/"
        },
        "id": "IRZ2SFcvB-pg",
        "outputId": "359530e4-6915-49bc-cfe5-b798c92fff52"
      },
      "execution_count": null,
      "outputs": [
        {
          "output_type": "execute_result",
          "data": {
            "text/plain": [
              "tensor([0.1721], grad_fn=<ViewBackward0>)"
            ]
          },
          "metadata": {},
          "execution_count": 15
        }
      ]
    },
    {
      "cell_type": "code",
      "source": [
        "model = nn.Sequential(nn.Linear(2,5), # 채X\n",
        "              nn.Linear(5,10),\n",
        "              nn.Linear(10,3))\n",
        "\n",
        "x = torch.randn(2)\n",
        "print(model(x))\n",
        "\n",
        "x = torch.randn(5, 2) # 두 채널 값(키, 몸무게)를 가지는 데이터(사람) 5개\n",
        "# 신경망 들어갈 때는 노드 2개만 필요. 데이터 5개는 신경망을 5번 통과하는 것!\n",
        "\n",
        "print(model(x))\n",
        "\n",
        "x = torch.randn(2,3,1,4,5,2) # Linear는 무조건 개x채. 마지막만 채이고, 앞에 있는 것들은 모두 개\n",
        "print(model(x).shape) # (2 -> 3)으로 나오는 신경망을 2x3x1x4x5 개를 각각 통과시켜 쌓은 결과물\n"
      ],
      "metadata": {
        "colab": {
          "base_uri": "https://localhost:8080/"
        },
        "id": "R80Wma_UEoAY",
        "outputId": "d58198ba-325d-4c58-988f-8540b8a585dd"
      },
      "execution_count": null,
      "outputs": [
        {
          "output_type": "stream",
          "name": "stdout",
          "text": [
            "tensor([0.2944, 0.2863, 0.0381], grad_fn=<ViewBackward0>)\n",
            "tensor([[ 0.5085,  0.1696,  0.0518],\n",
            "        [ 0.2627,  0.1462, -0.0320],\n",
            "        [ 0.3750,  0.2396,  0.0421],\n",
            "        [-0.0354,  0.0642, -0.1570],\n",
            "        [ 0.3662,  0.1866,  0.0165]], grad_fn=<AddmmBackward0>)\n",
            "torch.Size([2, 3, 1, 4, 5, 3])\n"
          ]
        }
      ]
    },
    {
      "cell_type": "code",
      "source": [
        "class MyModel(nn.Module):\n",
        "  def __init__(self):\n",
        "    super().__init__()\n",
        "    self.fc1 = nn.Linear(2, 5)\n",
        "    self.fc2 = nn.Linear(5, 10)\n",
        "    self.fc3 = nn.Linear(10, 3)\n",
        "    self.sig1 = nn.Sigmoid()\n",
        "    self.sig2 = nn.Sigmoid()\n",
        "    self.sig3 = nn.Sigmoid()\n",
        "\n",
        "  def forward(self, x):\n",
        "    x = self.fc1(x)\n",
        "    x = self.sig1(x) # 여기까지 한 층\n",
        "\n",
        "    x = self.fc2(x)\n",
        "    x = self.sig2(x)\n",
        "\n",
        "    x = self.fc3(x)\n",
        "    x = self.sig3(x)\n",
        "    return x\n",
        "\n",
        "model = MyModel()\n",
        "x= torch.randn(5, 2)\n",
        "y = model(x)\n",
        "print(y)"
      ],
      "metadata": {
        "colab": {
          "base_uri": "https://localhost:8080/"
        },
        "id": "qWM8mi-XF5L4",
        "outputId": "058fb8d5-7341-4718-f4d9-6220c598b58f"
      },
      "execution_count": null,
      "outputs": [
        {
          "output_type": "stream",
          "name": "stdout",
          "text": [
            "tensor([[0.5817, 0.5450, 0.4805],\n",
            "        [0.5773, 0.5439, 0.4822],\n",
            "        [0.5831, 0.5465, 0.4810],\n",
            "        [0.5812, 0.5461, 0.4818],\n",
            "        [0.5806, 0.5458, 0.4818]], grad_fn=<SigmoidBackward0>)\n"
          ]
        }
      ]
    },
    {
      "cell_type": "code",
      "source": [
        "print(model)\n",
        "\n",
        "print(model.fc1.weight)"
      ],
      "metadata": {
        "colab": {
          "base_uri": "https://localhost:8080/"
        },
        "id": "8zVjvN71IIeZ",
        "outputId": "eea98f62-80aa-4f20-e33f-70b8fb961e68"
      },
      "execution_count": null,
      "outputs": [
        {
          "output_type": "stream",
          "name": "stdout",
          "text": [
            "MyModel(\n",
            "  (fc1): Linear(in_features=2, out_features=5, bias=True)\n",
            "  (fc2): Linear(in_features=5, out_features=10, bias=True)\n",
            "  (fc3): Linear(in_features=10, out_features=3, bias=True)\n",
            "  (sig1): Sigmoid()\n",
            "  (sig2): Sigmoid()\n",
            "  (sig3): Sigmoid()\n",
            ")\n",
            "Parameter containing:\n",
            "tensor([[ 0.6706,  0.3947],\n",
            "        [ 0.3232,  0.3977],\n",
            "        [ 0.3238, -0.0427],\n",
            "        [ 0.0375,  0.2712],\n",
            "        [ 0.1811, -0.5238]], requires_grad=True)\n"
          ]
        }
      ]
    },
    {
      "cell_type": "code",
      "source": [
        "class MyModel(nn.Module):\n",
        "  def __init__(self):\n",
        "    super().__init__()\n",
        "    self.sequential = nn.Sequential(\n",
        "        nn.Linear(2,5),\n",
        "        nn.Sigmoid(),\n",
        "        nn.Linear(5,10),\n",
        "        nn.Sigmoid(),\n",
        "        nn.Linear(10,3),\n",
        "        nn.Sigmoid()\n",
        "      )\n",
        "\n",
        "  def forward(self, x):\n",
        "    return self.sequential(x)\n",
        "\n",
        "model = MyModel()\n",
        "x= torch.randn(5, 2)\n",
        "y = model(x)\n",
        "print(y)\n",
        "\n",
        "print(model)\n",
        "print(model.sequential[0].weight)"
      ],
      "metadata": {
        "colab": {
          "base_uri": "https://localhost:8080/"
        },
        "id": "lGlJpJxpITEs",
        "outputId": "0f12ab43-21c1-496d-a871-c4f4fded0f52"
      },
      "execution_count": null,
      "outputs": [
        {
          "output_type": "stream",
          "name": "stdout",
          "text": [
            "tensor([[0.5319, 0.5622, 0.4027],\n",
            "        [0.5329, 0.5610, 0.4019],\n",
            "        [0.5309, 0.5633, 0.4031],\n",
            "        [0.5326, 0.5608, 0.4033],\n",
            "        [0.5303, 0.5636, 0.4046]], grad_fn=<SigmoidBackward0>)\n",
            "MyModel(\n",
            "  (sequential): Sequential(\n",
            "    (0): Linear(in_features=2, out_features=5, bias=True)\n",
            "    (1): Sigmoid()\n",
            "    (2): Linear(in_features=5, out_features=10, bias=True)\n",
            "    (3): Sigmoid()\n",
            "    (4): Linear(in_features=10, out_features=3, bias=True)\n",
            "    (5): Sigmoid()\n",
            "  )\n",
            ")\n",
            "Parameter containing:\n",
            "tensor([[-0.3065,  0.5215],\n",
            "        [-0.5082,  0.2388],\n",
            "        [-0.5340,  0.5179],\n",
            "        [ 0.6009,  0.4899],\n",
            "        [ 0.1358,  0.0663]], requires_grad=True)\n"
          ]
        }
      ]
    },
    {
      "cell_type": "code",
      "source": [
        "num = [p.numel() for p in model.parameters() if p.requires_grad] # 학습해야 하는 파라미터들의 엘리먼트 개수\n",
        "num"
      ],
      "metadata": {
        "colab": {
          "base_uri": "https://localhost:8080/"
        },
        "id": "-XB7aoEpIpFr",
        "outputId": "2a6ac32a-b9b8-44df-a172-97c480cb40b8"
      },
      "execution_count": null,
      "outputs": [
        {
          "output_type": "execute_result",
          "data": {
            "text/plain": [
              "[10, 5, 50, 10, 30, 3]"
            ]
          },
          "metadata": {},
          "execution_count": 36
        }
      ]
    },
    {
      "cell_type": "markdown",
      "source": [
        "weight initialization"
      ],
      "metadata": {
        "id": "gDR_xjWXKpFa"
      }
    },
    {
      "cell_type": "code",
      "source": [
        "import torch\n",
        "import torch.nn as nn\n",
        "import math\n",
        "\n",
        "# ----------------------------------------------------\n",
        "# 1. Linear 레이어 가중치 초기화 (예: nn.Linear(5000, 1000))\n",
        "# ----------------------------------------------------\n",
        "print(\"## 1. Linear Layer Initialization ##\")\n",
        "Fin = 5000  # fan-in: 입력 피처의 수\n",
        "Fout = 1000 # fan-out: 출력 피처의 수\n",
        "\n",
        "# 가중치 텐서 생성 (실제 레이어에서는 (Fout, Fin) 모양)\n",
        "w = torch.empty(Fout, Fin)\n",
        "\n",
        "\n",
        "# (1) mode = 'fan_in': 순전파(Forward Pass)의 안정성을 위함 (가장 일반적)\n",
        "nn.init.kaiming_uniform_(w, mode='fan_in', nonlinearity='relu')\n",
        "# He 초기화의 이론적 표준편차는 sqrt(2 / fan_in)\n",
        "theoretical_std_fan_in = math.sqrt(2 / Fin)\n",
        "\n",
        "print(f\"\\n[Mode: fan_in]\")\n",
        "print(f\"실제 가중치 표준편차: {w.std():.6f}\")\n",
        "print(f\"이론적인 표준편차   : {theoretical_std_fan_in:.6f}\")\n",
        "\n",
        "\n",
        "# (2) mode = 'fan_out': 역전파(Backward Pass)의 안정성을 위함\n",
        "nn.init.kaiming_uniform_(w, mode='fan_out', nonlinearity='relu')\n",
        "# 이론적 표준편차는 sqrt(2 / fan_out)\n",
        "theoretical_std_fan_out = math.sqrt(2 / Fout)\n",
        "\n",
        "print(f\"\\n[Mode: fan_out]\")\n",
        "print(f\"실제 가중치 표준편차: {w.std():.6f}\")\n",
        "print(f\"이론적인 표준편차   : {theoretical_std_fan_out:.6f}\")\n",
        "\n",
        "\n",
        "# ----------------------------------------------------\n",
        "# 2. CNN 레이어 가중치 초기화 (예: nn.Conv2d(64, 128, kernel_size=3))\n",
        "# ----------------------------------------------------\n",
        "print(\"\\n\\n## 2. Convolutional Layer Initialization ##\")\n",
        "C_in = 64      # 입력 채널 수\n",
        "C_out = 128    # 출력 채널 수\n",
        "kH, kW = 3, 3  # 커널(필터)의 높이와 너비\n",
        "\n",
        "# CNN 가중치 텐서 생성 (모양: [출력채널, 입력채널, 커널높이, 커널너비])\n",
        "w_cnn = torch.empty(C_out, C_in, kH, kW)\n",
        "\n",
        "# CNN 에서의 fan_in = C_in * kH * kW\n",
        "cnn_fan_in = C_in * kH * kW\n",
        "theoretical_std_cnn = math.sqrt(2 / cnn_fan_in)\n",
        "\n",
        "# 'fan_in' 모드로 초기화\n",
        "nn.init.kaiming_uniform_(w_cnn, mode='fan_in', nonlinearity='relu')\n",
        "\n",
        "print(f\"\\n[Mode: fan_in for CNN]\")\n",
        "print(f\"CNN fan_in 값: {cnn_fan_in}\")\n",
        "print(f\"실제 가중치 표준편차: {w_cnn.std():.6f}\")\n",
        "print(f\"이론적인 표준편차   : {theoretical_std_cnn:.6f}\")"
      ],
      "metadata": {
        "id": "p8cwW2n7Kf40"
      },
      "execution_count": null,
      "outputs": []
    },
    {
      "cell_type": "markdown",
      "source": [
        "## 이진 분류 실습"
      ],
      "metadata": {
        "id": "BaJgu0_-D__-"
      }
    },
    {
      "cell_type": "code",
      "source": [
        "# case 1\n",
        "import torch\n",
        "\n",
        "N = 20\n",
        "random0 = torch.randn(int(N/2), 1)\n",
        "random5 = torch.randn(int(N/2), 1) + 5\n",
        "\n",
        "class1_data = torch.hstack([random0, random5])\n",
        "class2_data = torch.hstack([random5, random0])\n",
        "\n",
        "class1_label = torch.ones(int(N/2), 1)\n",
        "class2_label = torch.zeros(int(N/2), 1)\n",
        "\n",
        "X = torch.vstack([class1_data, class2_data])\n",
        "y = torch.vstack([class1_label, class2_label])"
      ],
      "metadata": {
        "id": "ZUrNRTw-EPCK"
      },
      "execution_count": 3,
      "outputs": []
    },
    {
      "cell_type": "code",
      "source": [
        "import matplotlib.pyplot as plt\n",
        "\n",
        "plt.plot(class1_data[:, 0], class1_data[:,1],'o')\n",
        "plt.plot(class2_data[:, 0], class2_data[:,1],'ro')\n",
        "\n",
        "plt.xlabel('x1')\n",
        "plt.ylabel('y1')\n",
        "plt.grid()"
      ],
      "metadata": {
        "colab": {
          "base_uri": "https://localhost:8080/",
          "height": 449
        },
        "id": "wvYy8zLrHWOq",
        "outputId": "ef1ffe77-de85-45f3-985e-4468d5fa5401"
      },
      "execution_count": 4,
      "outputs": [
        {
          "output_type": "display_data",
          "data": {
            "text/plain": [
              "<Figure size 640x480 with 1 Axes>"
            ],
            "image/png": "[encoded data removed]"
          },
          "metadata": {}
        }
      ]
    },
    {
      "cell_type": "markdown",
      "source": [
        "### STEP2. 모델 만들기"
      ],
      "metadata": {
        "id": "E9nj6OP7HpVg"
      }
    },
    {
      "cell_type": "code",
      "source": [
        "from torch import nn\n",
        "\n",
        "class MLP(nn.Module):\n",
        "  def __init__(self):\n",
        "    super().__init__()\n",
        "\n",
        "    #case 1, plain\n",
        "    self.linear = nn.Sequential(nn.Linear(2,100), # 인공신경망은 데이터 1개를 기준. (개X채)\n",
        "                                nn.Sigmoid(),\n",
        "                                nn.Linear(100, 1), # 이진 분류. 1에 가까운지 0에 가까운지만 알면 됨\n",
        "                                nn.Sigmoid())\n",
        "  def forward(self, x):\n",
        "    return self.linear(x)\n"
      ],
      "metadata": {
        "id": "PDMRycZ1Hg23"
      },
      "execution_count": 13,
      "outputs": []
    },
    {
      "cell_type": "code",
      "source": [
        "model = MLP()\n",
        "print(model)\n",
        "print(model(torch.randn(5,2)).shape) # 5개 데이터에 대한 각각의 출력값. 2개의 값으로 이루어진 좌표값 (x1, x2) 5개 입력한 상태임"
      ],
      "metadata": {
        "colab": {
          "base_uri": "https://localhost:8080/"
        },
        "id": "2WzpzAInH9Dn",
        "outputId": "499cb897-b63e-4bc3-a23d-9c65b4f5c59a"
      },
      "execution_count": 14,
      "outputs": [
        {
          "output_type": "stream",
          "name": "stdout",
          "text": [
            "MLP(\n",
            "  (linear): Sequential(\n",
            "    (0): Linear(in_features=2, out_features=100, bias=True)\n",
            "    (1): Sigmoid()\n",
            "    (2): Linear(in_features=100, out_features=1, bias=True)\n",
            "    (3): Sigmoid()\n",
            "  )\n",
            ")\n",
            "torch.Size([5, 1])\n"
          ]
        }
      ]
    },
    {
      "cell_type": "markdown",
      "source": [
        "## STEP 3. 모델 학습시키기"
      ],
      "metadata": {
        "id": "RieI_mt5I8OJ"
      }
    },
    {
      "cell_type": "code",
      "source": [
        "# 유닛 스텝으로는 학습이 안되니까, 모든 구간에서 미분가능한 시그모이드를 활성화 함수로 사용\n",
        "# 모든 웨이트에 대해 미분하고, 백워드 (오토그라드)\n",
        "\n",
        "from torch import optim\n",
        "import torch.nn.functional as F\n",
        "\n",
        "LR = 1e-1\n",
        "EPOCH = 100\n",
        "\n",
        "optimizer = optim.SGD(model.parameters(), lr=LR)\n",
        "\n",
        "loss_history = []\n",
        "\n",
        "model.train() # train mode로 전환\n",
        "for ep in range(EPOCH):\n",
        "  # inference\n",
        "  y_hat = model(X)\n",
        "  # loss\n",
        "  # 이진분류에 쓰이는 비용함수인 BCE는 내부적으로 nn.functional에 구현 되어있음\n",
        "  # 사용자가 해야할 건 모델의 출력과 레이블만 던져주면 된다\n",
        "   # -Sigma (log q^y (1-q)^1-y)\n",
        "   # y_hat이 먼저 파라미터로 들어가야함!!\n",
        "  loss = F.binary_cross_entropy(y_hat, y)\n",
        "\n",
        "  # update\n",
        "  loss.backward()\n",
        "  optimizer.step() # 백워드해서 그라디언트 구하고 Optimzer에 step 메서드 해주면, 알아서 그라디언트 가지고 업데이트함\n",
        "\n",
        "  loss_history += [loss.item()]\n",
        "\n",
        "\n"
      ],
      "metadata": {
        "id": "609NxtywIqn4"
      },
      "execution_count": null,
      "outputs": []
    },
    {
      "cell_type": "code",
      "source": [
        "h"
      ],
      "metadata": {
        "id": "hfy3w-1cKVFA"
      },
      "execution_count": null,
      "outputs": []
    }
  ]
}